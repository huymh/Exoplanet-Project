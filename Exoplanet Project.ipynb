{
 "cells": [
  {
   "cell_type": "markdown",
   "id": "91d0cd1f-a9fe-4937-bb12-78a226d49fac",
   "metadata": {},
   "source": [
    "# An Investigation of NASA's Kepler Objects of Interest (KOI) Dataset"
   ]
  },
  {
   "cell_type": "markdown",
   "id": "d909bd14-c10a-4ee1-9c6e-0d165c892af0",
   "metadata": {},
   "source": [
    "## Summary"
   ]
  },
  {
   "cell_type": "markdown",
   "id": "3573acce-7ff3-4b70-ab18-674a1f98f046",
   "metadata": {},
   "source": [
    "This project includes an explortaory data analysis and a machine learning classification task (work in progress!) of NASA's [KOI Table](https://exoplanetarchive.ipac.caltech.edu/cgi-bin/TblView/nph-tblView?app=ExoTbls&config=cumulative)."
   ]
  },
  {
   "cell_type": "markdown",
   "id": "90a3e939-3d7a-413c-b877-313c852b24f2",
   "metadata": {},
   "source": [
    "### Questions of Interest"
   ]
  },
  {
   "cell_type": "markdown",
   "id": "1802e10c-12ba-4609-9e3d-e5f26d103180",
   "metadata": {},
   "source": [
    "- How many exoplanets are confirmed, candidates, and false positives?\n",
    "- How are planet sizes distributed? Do we see more Earth-sized, Uranas-sized, or Jupiter-sized planets?\n",
    "- Is there a relationship between planet size and orbital period?\n",
    "- Is there a correlation between planet equilibrium temperature and star temperature?\n",
    "- How does planet size vary with stellar temperature (koi_steff) or stellar radius (koi_srad)?\n",
    "- Which confirmed planets are most similar to Earth (based on radius, temperature, and orbital period)?"
   ]
  },
  {
   "cell_type": "markdown",
   "id": "b73d92f1-2c0d-42e7-a281-95b527d0fe53",
   "metadata": {},
   "source": [
    "### Data Description"
   ]
  },
  {
   "cell_type": "markdown",
   "id": "a69c94af-5582-49df-85b0-93150d6f2b67",
   "metadata": {},
   "source": [
    "For a detailed description for every data column, NASA has provided [this page](https://exoplanetarchive.ipac.caltech.edu/docs/API_kepcandidate_columns.html). For this project, we will be focusing on the following columns:\n",
    "\n",
    "| Database Column Name | Short Description |\n",
    "|----------------------|-------------------|\n",
    "| kepid | Target identification number |\n",
    "| kepoi_name | A number used to identify and track a Kepler Object of Interest (KOI) |\n",
    "| kepler_name | Kepler number name in the form \"Kepler-N,\" plus a lower-case letter, identifying the planet |\n",
    "| koi_disposition |The category of this KOI from the Exoplanet Archive. Current values are **CANDIDATE**, **FALSE POSITIVE**, **NOT DISPOSITIONED** or **CONFIRMED** |\n",
    "| koi_score | A value between 0 and 1 that indicates the confidence in the KOI disposition. For CANDIDATEs, a higher value indicates more confidence in its disposition, while for FALSE POSITIVEs, a higher value indicates less confidence in that disposition |\n",
    "| koi_period | The interval between consecutive planetary transits (days) |\n",
    "| koi_prad | The radius of the planet (Earth radii) |\n",
    "| koi_teq | Approximation for the temperature of the planet (Kelvin) |\n",
    "| koi_steff | The photospheric temperature of the star (Kelvin) |\n",
    "| koi_srad | The photospheric radius of the star |\n",
    "| koi_slogg | The base-10 logarithm of the acceleration due to gravity at the surface of the star (log<sub>10</sub>, cm/s<sup>2</sup>) |\n",
    "| koi_kepmag | The Kepler-band magnitude, brightness of the star as observed by Kepler (mag) |"
   ]
  },
  {
   "cell_type": "markdown",
   "id": "d1d89f98-5eaa-43de-9531-68fb2f80b4a3",
   "metadata": {},
   "source": [
    "## Importing Libraries and User Functions"
   ]
  },
  {
   "cell_type": "code",
   "execution_count": 1,
   "id": "28a87bda-0400-451a-a030-09f7fdfa12e9",
   "metadata": {},
   "outputs": [],
   "source": [
    "import numpy as np\n",
    "import pandas as pd\n",
    "import seaborn as sns\n",
    "import matplotlib.pyplot as plt\n",
    "\n",
    "from sklearn.model_selection import train_test_split\n",
    "from sklearn.preprocessing import StandardScaler, LabelEncoder\n",
    "from sklearn.feature_selection import SelectKBest, f_classif\n",
    "from sklearn.ensemble import RandomForestClassifier, GradientBoostingClassifier\n",
    "from xgboost import XGBClassifier\n",
    "from lightgbm import LGBMClassifier\n",
    "from sklearn.neural_network import MLPClassifier\n",
    "from sklearn.metrics import accuracy_score, f1_score, confusion_matrix, classification_report"
   ]
  },
  {
   "cell_type": "code",
   "execution_count": 2,
   "id": "46f2b620-04ed-4ac0-beb6-40bd81a8dd0a",
   "metadata": {},
   "outputs": [],
   "source": [
    "def evaluate_model(model, X_train, X_test, y_train, y_test, model_name):\n",
    "    \"\"\"\n",
    "    Train a classification model, make predictions, and return evaluation metrics as a dictionary.\n",
    "\n",
    "    Parameters\n",
    "    ----------\n",
    "    model : estimator object\n",
    "        The classification model to train.\n",
    "    X_train, X_test : array-like\n",
    "        Feature matrices for training and testing.\n",
    "    y_train, y_test : array-like\n",
    "        Target labels for training and testing.\n",
    "    model_name : str\n",
    "        Name of the model for identification.\n",
    "\n",
    "    Returns\n",
    "    -------\n",
    "    dict\n",
    "        Dictionary containing model name, accuracy, weighted F1 score, and optionally confusion matrix.\n",
    "    \"\"\"\n",
    "    model.fit(X_train, y_train)\n",
    "    y_pred = model.predict(X_test)\n",
    "    \n",
    "    return {\n",
    "        \"Model\": model_name,\n",
    "        \"Accuracy\": accuracy_score(y_test, y_pred),\n",
    "        \"F1 Score (weighted)\": f1_score(y_test, y_pred, average='weighted'),\n",
    "        \"Confusion Matrix\": confusion_matrix(y_test, y_pred)\n",
    "    }"
   ]
  },
  {
   "cell_type": "markdown",
   "id": "c6b190bf-e44d-40b1-a9d1-816107b07998",
   "metadata": {},
   "source": [
    "## Data Wrangling"
   ]
  },
  {
   "cell_type": "code",
   "execution_count": 3,
   "id": "806de02a-d8c3-4ef9-90d0-dcf5420cf605",
   "metadata": {},
   "outputs": [
    {
     "data": {
      "text/html": [
       "<div>\n",
       "<style scoped>\n",
       "    .dataframe tbody tr th:only-of-type {\n",
       "        vertical-align: middle;\n",
       "    }\n",
       "\n",
       "    .dataframe tbody tr th {\n",
       "        vertical-align: top;\n",
       "    }\n",
       "\n",
       "    .dataframe thead th {\n",
       "        text-align: right;\n",
       "    }\n",
       "</style>\n",
       "<table border=\"1\" class=\"dataframe\">\n",
       "  <thead>\n",
       "    <tr style=\"text-align: right;\">\n",
       "      <th></th>\n",
       "      <th>kepid</th>\n",
       "      <th>kepoi_name</th>\n",
       "      <th>kepler_name</th>\n",
       "      <th>koi_disposition</th>\n",
       "      <th>koi_pdisposition</th>\n",
       "      <th>koi_score</th>\n",
       "      <th>koi_fpflag_nt</th>\n",
       "      <th>koi_fpflag_ss</th>\n",
       "      <th>koi_fpflag_co</th>\n",
       "      <th>koi_fpflag_ec</th>\n",
       "      <th>...</th>\n",
       "      <th>koi_steff_err2</th>\n",
       "      <th>koi_slogg</th>\n",
       "      <th>koi_slogg_err1</th>\n",
       "      <th>koi_slogg_err2</th>\n",
       "      <th>koi_srad</th>\n",
       "      <th>koi_srad_err1</th>\n",
       "      <th>koi_srad_err2</th>\n",
       "      <th>ra</th>\n",
       "      <th>dec</th>\n",
       "      <th>koi_kepmag</th>\n",
       "    </tr>\n",
       "  </thead>\n",
       "  <tbody>\n",
       "    <tr>\n",
       "      <th>0</th>\n",
       "      <td>10797460</td>\n",
       "      <td>K00752.01</td>\n",
       "      <td>Kepler-227 b</td>\n",
       "      <td>CONFIRMED</td>\n",
       "      <td>CANDIDATE</td>\n",
       "      <td>1.000</td>\n",
       "      <td>0</td>\n",
       "      <td>0</td>\n",
       "      <td>0</td>\n",
       "      <td>0</td>\n",
       "      <td>...</td>\n",
       "      <td>-81.0</td>\n",
       "      <td>4.467</td>\n",
       "      <td>0.064</td>\n",
       "      <td>-0.096</td>\n",
       "      <td>0.927</td>\n",
       "      <td>0.105</td>\n",
       "      <td>-0.061</td>\n",
       "      <td>291.93423</td>\n",
       "      <td>48.141651</td>\n",
       "      <td>15.347</td>\n",
       "    </tr>\n",
       "    <tr>\n",
       "      <th>1</th>\n",
       "      <td>10797460</td>\n",
       "      <td>K00752.02</td>\n",
       "      <td>Kepler-227 c</td>\n",
       "      <td>CONFIRMED</td>\n",
       "      <td>CANDIDATE</td>\n",
       "      <td>0.969</td>\n",
       "      <td>0</td>\n",
       "      <td>0</td>\n",
       "      <td>0</td>\n",
       "      <td>0</td>\n",
       "      <td>...</td>\n",
       "      <td>-81.0</td>\n",
       "      <td>4.467</td>\n",
       "      <td>0.064</td>\n",
       "      <td>-0.096</td>\n",
       "      <td>0.927</td>\n",
       "      <td>0.105</td>\n",
       "      <td>-0.061</td>\n",
       "      <td>291.93423</td>\n",
       "      <td>48.141651</td>\n",
       "      <td>15.347</td>\n",
       "    </tr>\n",
       "    <tr>\n",
       "      <th>2</th>\n",
       "      <td>10811496</td>\n",
       "      <td>K00753.01</td>\n",
       "      <td>NaN</td>\n",
       "      <td>CANDIDATE</td>\n",
       "      <td>CANDIDATE</td>\n",
       "      <td>0.000</td>\n",
       "      <td>0</td>\n",
       "      <td>0</td>\n",
       "      <td>0</td>\n",
       "      <td>0</td>\n",
       "      <td>...</td>\n",
       "      <td>-176.0</td>\n",
       "      <td>4.544</td>\n",
       "      <td>0.044</td>\n",
       "      <td>-0.176</td>\n",
       "      <td>0.868</td>\n",
       "      <td>0.233</td>\n",
       "      <td>-0.078</td>\n",
       "      <td>297.00482</td>\n",
       "      <td>48.134129</td>\n",
       "      <td>15.436</td>\n",
       "    </tr>\n",
       "    <tr>\n",
       "      <th>3</th>\n",
       "      <td>10848459</td>\n",
       "      <td>K00754.01</td>\n",
       "      <td>NaN</td>\n",
       "      <td>FALSE POSITIVE</td>\n",
       "      <td>FALSE POSITIVE</td>\n",
       "      <td>0.000</td>\n",
       "      <td>0</td>\n",
       "      <td>1</td>\n",
       "      <td>0</td>\n",
       "      <td>0</td>\n",
       "      <td>...</td>\n",
       "      <td>-174.0</td>\n",
       "      <td>4.564</td>\n",
       "      <td>0.053</td>\n",
       "      <td>-0.168</td>\n",
       "      <td>0.791</td>\n",
       "      <td>0.201</td>\n",
       "      <td>-0.067</td>\n",
       "      <td>285.53461</td>\n",
       "      <td>48.285210</td>\n",
       "      <td>15.597</td>\n",
       "    </tr>\n",
       "    <tr>\n",
       "      <th>4</th>\n",
       "      <td>10854555</td>\n",
       "      <td>K00755.01</td>\n",
       "      <td>Kepler-664 b</td>\n",
       "      <td>CONFIRMED</td>\n",
       "      <td>CANDIDATE</td>\n",
       "      <td>1.000</td>\n",
       "      <td>0</td>\n",
       "      <td>0</td>\n",
       "      <td>0</td>\n",
       "      <td>0</td>\n",
       "      <td>...</td>\n",
       "      <td>-211.0</td>\n",
       "      <td>4.438</td>\n",
       "      <td>0.070</td>\n",
       "      <td>-0.210</td>\n",
       "      <td>1.046</td>\n",
       "      <td>0.334</td>\n",
       "      <td>-0.133</td>\n",
       "      <td>288.75488</td>\n",
       "      <td>48.226200</td>\n",
       "      <td>15.509</td>\n",
       "    </tr>\n",
       "  </tbody>\n",
       "</table>\n",
       "<p>5 rows × 49 columns</p>\n",
       "</div>"
      ],
      "text/plain": [
       "      kepid kepoi_name   kepler_name koi_disposition koi_pdisposition  \\\n",
       "0  10797460  K00752.01  Kepler-227 b       CONFIRMED        CANDIDATE   \n",
       "1  10797460  K00752.02  Kepler-227 c       CONFIRMED        CANDIDATE   \n",
       "2  10811496  K00753.01           NaN       CANDIDATE        CANDIDATE   \n",
       "3  10848459  K00754.01           NaN  FALSE POSITIVE   FALSE POSITIVE   \n",
       "4  10854555  K00755.01  Kepler-664 b       CONFIRMED        CANDIDATE   \n",
       "\n",
       "   koi_score  koi_fpflag_nt  koi_fpflag_ss  koi_fpflag_co  koi_fpflag_ec  ...  \\\n",
       "0      1.000              0              0              0              0  ...   \n",
       "1      0.969              0              0              0              0  ...   \n",
       "2      0.000              0              0              0              0  ...   \n",
       "3      0.000              0              1              0              0  ...   \n",
       "4      1.000              0              0              0              0  ...   \n",
       "\n",
       "   koi_steff_err2  koi_slogg  koi_slogg_err1  koi_slogg_err2  koi_srad  \\\n",
       "0           -81.0      4.467           0.064          -0.096     0.927   \n",
       "1           -81.0      4.467           0.064          -0.096     0.927   \n",
       "2          -176.0      4.544           0.044          -0.176     0.868   \n",
       "3          -174.0      4.564           0.053          -0.168     0.791   \n",
       "4          -211.0      4.438           0.070          -0.210     1.046   \n",
       "\n",
       "   koi_srad_err1  koi_srad_err2         ra        dec  koi_kepmag  \n",
       "0          0.105         -0.061  291.93423  48.141651      15.347  \n",
       "1          0.105         -0.061  291.93423  48.141651      15.347  \n",
       "2          0.233         -0.078  297.00482  48.134129      15.436  \n",
       "3          0.201         -0.067  285.53461  48.285210      15.597  \n",
       "4          0.334         -0.133  288.75488  48.226200      15.509  \n",
       "\n",
       "[5 rows x 49 columns]"
      ]
     },
     "execution_count": 3,
     "metadata": {},
     "output_type": "execute_result"
    }
   ],
   "source": [
    "cumulative = pd.read_csv('cumulative.csv', comment='#')\n",
    "cumulative.head(5)"
   ]
  },
  {
   "cell_type": "markdown",
   "id": "796b584b-4a2d-414c-9d40-a31cd8c0969e",
   "metadata": {},
   "source": [
    "### Data Cleaning"
   ]
  },
  {
   "cell_type": "markdown",
   "id": "a89e517c-6adc-4eef-b102-658b5651bf09",
   "metadata": {},
   "source": [
    "Let's finally start exploring this dataset! We'll be looking to handle missing data, verify column dtypes, and reomve duplicate data."
   ]
  },
  {
   "cell_type": "code",
   "execution_count": 4,
   "id": "124fa3a9-99d8-430f-9b92-00c675f8b0da",
   "metadata": {
    "scrolled": true
   },
   "outputs": [
    {
     "name": "stdout",
     "output_type": "stream",
     "text": [
      "<class 'pandas.core.frame.DataFrame'>\n",
      "RangeIndex: 9564 entries, 0 to 9563\n",
      "Data columns (total 49 columns):\n",
      " #   Column             Non-Null Count  Dtype  \n",
      "---  ------             --------------  -----  \n",
      " 0   kepid              9564 non-null   int64  \n",
      " 1   kepoi_name         9564 non-null   object \n",
      " 2   kepler_name        2747 non-null   object \n",
      " 3   koi_disposition    9564 non-null   object \n",
      " 4   koi_pdisposition   9564 non-null   object \n",
      " 5   koi_score          8054 non-null   float64\n",
      " 6   koi_fpflag_nt      9564 non-null   int64  \n",
      " 7   koi_fpflag_ss      9564 non-null   int64  \n",
      " 8   koi_fpflag_co      9564 non-null   int64  \n",
      " 9   koi_fpflag_ec      9564 non-null   int64  \n",
      " 10  koi_period         9564 non-null   float64\n",
      " 11  koi_period_err1    9110 non-null   float64\n",
      " 12  koi_period_err2    9110 non-null   float64\n",
      " 13  koi_time0bk        9564 non-null   float64\n",
      " 14  koi_time0bk_err1   9110 non-null   float64\n",
      " 15  koi_time0bk_err2   9110 non-null   float64\n",
      " 16  koi_impact         9201 non-null   float64\n",
      " 17  koi_impact_err1    9110 non-null   float64\n",
      " 18  koi_impact_err2    9110 non-null   float64\n",
      " 19  koi_duration       9564 non-null   float64\n",
      " 20  koi_duration_err1  9110 non-null   float64\n",
      " 21  koi_duration_err2  9110 non-null   float64\n",
      " 22  koi_depth          9201 non-null   float64\n",
      " 23  koi_depth_err1     9110 non-null   float64\n",
      " 24  koi_depth_err2     9110 non-null   float64\n",
      " 25  koi_prad           9201 non-null   float64\n",
      " 26  koi_prad_err1      9201 non-null   float64\n",
      " 27  koi_prad_err2      9201 non-null   float64\n",
      " 28  koi_teq            9201 non-null   float64\n",
      " 29  koi_teq_err1       0 non-null      float64\n",
      " 30  koi_teq_err2       0 non-null      float64\n",
      " 31  koi_insol          9243 non-null   float64\n",
      " 32  koi_insol_err1     9243 non-null   float64\n",
      " 33  koi_insol_err2     9243 non-null   float64\n",
      " 34  koi_model_snr      9201 non-null   float64\n",
      " 35  koi_tce_plnt_num   9218 non-null   float64\n",
      " 36  koi_tce_delivname  9218 non-null   object \n",
      " 37  koi_steff          9201 non-null   float64\n",
      " 38  koi_steff_err1     9096 non-null   float64\n",
      " 39  koi_steff_err2     9081 non-null   float64\n",
      " 40  koi_slogg          9201 non-null   float64\n",
      " 41  koi_slogg_err1     9096 non-null   float64\n",
      " 42  koi_slogg_err2     9096 non-null   float64\n",
      " 43  koi_srad           9201 non-null   float64\n",
      " 44  koi_srad_err1      9096 non-null   float64\n",
      " 45  koi_srad_err2      9096 non-null   float64\n",
      " 46  ra                 9564 non-null   float64\n",
      " 47  dec                9564 non-null   float64\n",
      " 48  koi_kepmag         9563 non-null   float64\n",
      "dtypes: float64(39), int64(5), object(5)\n",
      "memory usage: 3.6+ MB\n"
     ]
    }
   ],
   "source": [
    "cumulative.info()"
   ]
  },
  {
   "cell_type": "code",
   "execution_count": 5,
   "id": "4bfb6155-ffa0-4af5-ab1d-f38451101fcd",
   "metadata": {
    "scrolled": true
   },
   "outputs": [
    {
     "data": {
      "text/plain": [
       "kepid                   0\n",
       "kepoi_name              0\n",
       "kepler_name          6817\n",
       "koi_disposition         0\n",
       "koi_pdisposition        0\n",
       "koi_score            1510\n",
       "koi_fpflag_nt           0\n",
       "koi_fpflag_ss           0\n",
       "koi_fpflag_co           0\n",
       "koi_fpflag_ec           0\n",
       "koi_period              0\n",
       "koi_period_err1       454\n",
       "koi_period_err2       454\n",
       "koi_time0bk             0\n",
       "koi_time0bk_err1      454\n",
       "koi_time0bk_err2      454\n",
       "koi_impact            363\n",
       "koi_impact_err1       454\n",
       "koi_impact_err2       454\n",
       "koi_duration            0\n",
       "koi_duration_err1     454\n",
       "koi_duration_err2     454\n",
       "koi_depth             363\n",
       "koi_depth_err1        454\n",
       "koi_depth_err2        454\n",
       "koi_prad              363\n",
       "koi_prad_err1         363\n",
       "koi_prad_err2         363\n",
       "koi_teq               363\n",
       "koi_teq_err1         9564\n",
       "koi_teq_err2         9564\n",
       "koi_insol             321\n",
       "koi_insol_err1        321\n",
       "koi_insol_err2        321\n",
       "koi_model_snr         363\n",
       "koi_tce_plnt_num      346\n",
       "koi_tce_delivname     346\n",
       "koi_steff             363\n",
       "koi_steff_err1        468\n",
       "koi_steff_err2        483\n",
       "koi_slogg             363\n",
       "koi_slogg_err1        468\n",
       "koi_slogg_err2        468\n",
       "koi_srad              363\n",
       "koi_srad_err1         468\n",
       "koi_srad_err2         468\n",
       "ra                      0\n",
       "dec                     0\n",
       "koi_kepmag              1\n",
       "dtype: int64"
      ]
     },
     "execution_count": 5,
     "metadata": {},
     "output_type": "execute_result"
    }
   ],
   "source": [
    "# Get number of NaN values by column\n",
    "cumulative.isna().sum()"
   ]
  },
  {
   "cell_type": "markdown",
   "id": "7cd7f778-4a3a-4c59-b912-beeae72e2b0f",
   "metadata": {},
   "source": [
    "For columns of type `int` or `float64`, we will be imputing the columns' median. For columns of type `object`, we will impute the string 'Unknown'. The only columns that we will be dropping will be `koi_teq_err1` and `koi_teq_err2` because out of 9564 possible entries, all 9564 of them are NaN."
   ]
  },
  {
   "cell_type": "code",
   "execution_count": 6,
   "id": "fc3306f8-23bd-4135-aa95-5d836528675d",
   "metadata": {},
   "outputs": [],
   "source": [
    "# Drop completely null columns\n",
    "cumulative = cumulative.drop(['koi_teq_err1', 'koi_teq_err2'], axis=1)"
   ]
  },
  {
   "cell_type": "code",
   "execution_count": 7,
   "id": "f31bf1a9-8ab0-4b6c-92b9-47e086d341b9",
   "metadata": {},
   "outputs": [],
   "source": [
    "# Replace NaNs in numeric columns with median\n",
    "numeric_cols = cumulative.select_dtypes(include=['int64', 'float64']).columns\n",
    "cumulative[numeric_cols] = cumulative[numeric_cols].fillna(cumulative[numeric_cols].median())"
   ]
  },
  {
   "cell_type": "code",
   "execution_count": 8,
   "id": "be485fb3-9bcc-4638-8760-80e53b56f369",
   "metadata": {},
   "outputs": [],
   "source": [
    "# Replace NaNs in object columns with 'Unknown'\n",
    "obj_cols = cumulative.select_dtypes(include=['object']).columns\n",
    "cumulative[obj_cols] = cumulative[obj_cols].fillna('Unknown')"
   ]
  },
  {
   "cell_type": "code",
   "execution_count": 9,
   "id": "634af1ea-bd87-4fd4-abf4-d03d8dc4efb3",
   "metadata": {},
   "outputs": [
    {
     "name": "stdout",
     "output_type": "stream",
     "text": [
      "0\n"
     ]
    }
   ],
   "source": [
    "# Print number of NaNs left\n",
    "print(cumulative.isna().any().sum())"
   ]
  },
  {
   "cell_type": "code",
   "execution_count": 10,
   "id": "0001fba1-23ad-4ad0-a773-c4084dd48f3e",
   "metadata": {},
   "outputs": [],
   "source": [
    "# Now that we've ensured no NaNs, title case the koi_disposition and koi_pdisposition columns\n",
    "to_title = ['koi_disposition', 'koi_pdisposition']\n",
    "cumulative[to_title] = cumulative[to_title].map(lambda s: s.title())"
   ]
  },
  {
   "cell_type": "code",
   "execution_count": 11,
   "id": "e8d19318-9f99-48dc-9d6e-8ee90dc72a59",
   "metadata": {
    "scrolled": true
   },
   "outputs": [
    {
     "name": "stdout",
     "output_type": "stream",
     "text": [
      "<class 'pandas.core.frame.DataFrame'>\n",
      "RangeIndex: 9564 entries, 0 to 9563\n",
      "Data columns (total 47 columns):\n",
      " #   Column             Non-Null Count  Dtype  \n",
      "---  ------             --------------  -----  \n",
      " 0   kepid              9564 non-null   int64  \n",
      " 1   kepoi_name         9564 non-null   object \n",
      " 2   kepler_name        9564 non-null   object \n",
      " 3   koi_disposition    9564 non-null   object \n",
      " 4   koi_pdisposition   9564 non-null   object \n",
      " 5   koi_score          9564 non-null   float64\n",
      " 6   koi_fpflag_nt      9564 non-null   int64  \n",
      " 7   koi_fpflag_ss      9564 non-null   int64  \n",
      " 8   koi_fpflag_co      9564 non-null   int64  \n",
      " 9   koi_fpflag_ec      9564 non-null   int64  \n",
      " 10  koi_period         9564 non-null   float64\n",
      " 11  koi_period_err1    9564 non-null   float64\n",
      " 12  koi_period_err2    9564 non-null   float64\n",
      " 13  koi_time0bk        9564 non-null   float64\n",
      " 14  koi_time0bk_err1   9564 non-null   float64\n",
      " 15  koi_time0bk_err2   9564 non-null   float64\n",
      " 16  koi_impact         9564 non-null   float64\n",
      " 17  koi_impact_err1    9564 non-null   float64\n",
      " 18  koi_impact_err2    9564 non-null   float64\n",
      " 19  koi_duration       9564 non-null   float64\n",
      " 20  koi_duration_err1  9564 non-null   float64\n",
      " 21  koi_duration_err2  9564 non-null   float64\n",
      " 22  koi_depth          9564 non-null   float64\n",
      " 23  koi_depth_err1     9564 non-null   float64\n",
      " 24  koi_depth_err2     9564 non-null   float64\n",
      " 25  koi_prad           9564 non-null   float64\n",
      " 26  koi_prad_err1      9564 non-null   float64\n",
      " 27  koi_prad_err2      9564 non-null   float64\n",
      " 28  koi_teq            9564 non-null   float64\n",
      " 29  koi_insol          9564 non-null   float64\n",
      " 30  koi_insol_err1     9564 non-null   float64\n",
      " 31  koi_insol_err2     9564 non-null   float64\n",
      " 32  koi_model_snr      9564 non-null   float64\n",
      " 33  koi_tce_plnt_num   9564 non-null   float64\n",
      " 34  koi_tce_delivname  9564 non-null   object \n",
      " 35  koi_steff          9564 non-null   float64\n",
      " 36  koi_steff_err1     9564 non-null   float64\n",
      " 37  koi_steff_err2     9564 non-null   float64\n",
      " 38  koi_slogg          9564 non-null   float64\n",
      " 39  koi_slogg_err1     9564 non-null   float64\n",
      " 40  koi_slogg_err2     9564 non-null   float64\n",
      " 41  koi_srad           9564 non-null   float64\n",
      " 42  koi_srad_err1      9564 non-null   float64\n",
      " 43  koi_srad_err2      9564 non-null   float64\n",
      " 44  ra                 9564 non-null   float64\n",
      " 45  dec                9564 non-null   float64\n",
      " 46  koi_kepmag         9564 non-null   float64\n",
      "dtypes: float64(37), int64(5), object(5)\n",
      "memory usage: 3.4+ MB\n"
     ]
    }
   ],
   "source": [
    "cumulative.info()"
   ]
  },
  {
   "cell_type": "code",
   "execution_count": 12,
   "id": "e8fba11c-b155-4373-b03f-8ead769cae8b",
   "metadata": {},
   "outputs": [
    {
     "data": {
      "text/html": [
       "<div>\n",
       "<style scoped>\n",
       "    .dataframe tbody tr th:only-of-type {\n",
       "        vertical-align: middle;\n",
       "    }\n",
       "\n",
       "    .dataframe tbody tr th {\n",
       "        vertical-align: top;\n",
       "    }\n",
       "\n",
       "    .dataframe thead th {\n",
       "        text-align: right;\n",
       "    }\n",
       "</style>\n",
       "<table border=\"1\" class=\"dataframe\">\n",
       "  <thead>\n",
       "    <tr style=\"text-align: right;\">\n",
       "      <th></th>\n",
       "      <th>kepid</th>\n",
       "      <th>kepoi_name</th>\n",
       "      <th>kepler_name</th>\n",
       "      <th>koi_disposition</th>\n",
       "      <th>koi_pdisposition</th>\n",
       "      <th>koi_score</th>\n",
       "      <th>koi_fpflag_nt</th>\n",
       "      <th>koi_fpflag_ss</th>\n",
       "      <th>koi_fpflag_co</th>\n",
       "      <th>koi_fpflag_ec</th>\n",
       "      <th>...</th>\n",
       "      <th>koi_steff_err2</th>\n",
       "      <th>koi_slogg</th>\n",
       "      <th>koi_slogg_err1</th>\n",
       "      <th>koi_slogg_err2</th>\n",
       "      <th>koi_srad</th>\n",
       "      <th>koi_srad_err1</th>\n",
       "      <th>koi_srad_err2</th>\n",
       "      <th>ra</th>\n",
       "      <th>dec</th>\n",
       "      <th>koi_kepmag</th>\n",
       "    </tr>\n",
       "  </thead>\n",
       "  <tbody>\n",
       "    <tr>\n",
       "      <th>9004</th>\n",
       "      <td>7537660</td>\n",
       "      <td>K06884.01</td>\n",
       "      <td>Unknown</td>\n",
       "      <td>Candidate</td>\n",
       "      <td>Candidate</td>\n",
       "      <td>0.334</td>\n",
       "      <td>0</td>\n",
       "      <td>0</td>\n",
       "      <td>0</td>\n",
       "      <td>0</td>\n",
       "      <td>...</td>\n",
       "      <td>-160.0</td>\n",
       "      <td>4.438</td>\n",
       "      <td>0.070</td>\n",
       "      <td>-0.128</td>\n",
       "      <td>1.000</td>\n",
       "      <td>0.251</td>\n",
       "      <td>-0.111</td>\n",
       "      <td>294.60150</td>\n",
       "      <td>43.159935</td>\n",
       "      <td>13.583</td>\n",
       "    </tr>\n",
       "    <tr>\n",
       "      <th>5028</th>\n",
       "      <td>3219037</td>\n",
       "      <td>K03395.01</td>\n",
       "      <td>Unknown</td>\n",
       "      <td>Candidate</td>\n",
       "      <td>Candidate</td>\n",
       "      <td>1.000</td>\n",
       "      <td>0</td>\n",
       "      <td>0</td>\n",
       "      <td>0</td>\n",
       "      <td>0</td>\n",
       "      <td>...</td>\n",
       "      <td>-175.0</td>\n",
       "      <td>4.453</td>\n",
       "      <td>0.098</td>\n",
       "      <td>-0.182</td>\n",
       "      <td>0.924</td>\n",
       "      <td>0.255</td>\n",
       "      <td>-0.127</td>\n",
       "      <td>286.54041</td>\n",
       "      <td>38.332600</td>\n",
       "      <td>14.634</td>\n",
       "    </tr>\n",
       "    <tr>\n",
       "      <th>1142</th>\n",
       "      <td>9729691</td>\n",
       "      <td>K01751.01</td>\n",
       "      <td>Kepler-949 b</td>\n",
       "      <td>Confirmed</td>\n",
       "      <td>Candidate</td>\n",
       "      <td>1.000</td>\n",
       "      <td>0</td>\n",
       "      <td>0</td>\n",
       "      <td>0</td>\n",
       "      <td>0</td>\n",
       "      <td>...</td>\n",
       "      <td>-163.0</td>\n",
       "      <td>4.447</td>\n",
       "      <td>0.120</td>\n",
       "      <td>-0.180</td>\n",
       "      <td>0.895</td>\n",
       "      <td>0.186</td>\n",
       "      <td>-0.129</td>\n",
       "      <td>298.60788</td>\n",
       "      <td>46.453678</td>\n",
       "      <td>14.548</td>\n",
       "    </tr>\n",
       "    <tr>\n",
       "      <th>1355</th>\n",
       "      <td>7697568</td>\n",
       "      <td>K01829.01</td>\n",
       "      <td>Unknown</td>\n",
       "      <td>False Positive</td>\n",
       "      <td>False Positive</td>\n",
       "      <td>0.000</td>\n",
       "      <td>0</td>\n",
       "      <td>1</td>\n",
       "      <td>0</td>\n",
       "      <td>0</td>\n",
       "      <td>...</td>\n",
       "      <td>-159.0</td>\n",
       "      <td>4.538</td>\n",
       "      <td>0.051</td>\n",
       "      <td>-0.119</td>\n",
       "      <td>0.826</td>\n",
       "      <td>0.153</td>\n",
       "      <td>-0.082</td>\n",
       "      <td>296.52243</td>\n",
       "      <td>43.363369</td>\n",
       "      <td>15.911</td>\n",
       "    </tr>\n",
       "    <tr>\n",
       "      <th>8740</th>\n",
       "      <td>9005854</td>\n",
       "      <td>K07121.01</td>\n",
       "      <td>Unknown</td>\n",
       "      <td>False Positive</td>\n",
       "      <td>False Positive</td>\n",
       "      <td>0.000</td>\n",
       "      <td>0</td>\n",
       "      <td>1</td>\n",
       "      <td>0</td>\n",
       "      <td>0</td>\n",
       "      <td>...</td>\n",
       "      <td>-159.0</td>\n",
       "      <td>4.589</td>\n",
       "      <td>0.035</td>\n",
       "      <td>-0.119</td>\n",
       "      <td>0.780</td>\n",
       "      <td>0.133</td>\n",
       "      <td>-0.061</td>\n",
       "      <td>285.03131</td>\n",
       "      <td>45.380451</td>\n",
       "      <td>15.569</td>\n",
       "    </tr>\n",
       "  </tbody>\n",
       "</table>\n",
       "<p>5 rows × 47 columns</p>\n",
       "</div>"
      ],
      "text/plain": [
       "        kepid kepoi_name   kepler_name koi_disposition koi_pdisposition  \\\n",
       "9004  7537660  K06884.01       Unknown       Candidate        Candidate   \n",
       "5028  3219037  K03395.01       Unknown       Candidate        Candidate   \n",
       "1142  9729691  K01751.01  Kepler-949 b       Confirmed        Candidate   \n",
       "1355  7697568  K01829.01       Unknown  False Positive   False Positive   \n",
       "8740  9005854  K07121.01       Unknown  False Positive   False Positive   \n",
       "\n",
       "      koi_score  koi_fpflag_nt  koi_fpflag_ss  koi_fpflag_co  koi_fpflag_ec  \\\n",
       "9004      0.334              0              0              0              0   \n",
       "5028      1.000              0              0              0              0   \n",
       "1142      1.000              0              0              0              0   \n",
       "1355      0.000              0              1              0              0   \n",
       "8740      0.000              0              1              0              0   \n",
       "\n",
       "      ...  koi_steff_err2  koi_slogg  koi_slogg_err1  koi_slogg_err2  \\\n",
       "9004  ...          -160.0      4.438           0.070          -0.128   \n",
       "5028  ...          -175.0      4.453           0.098          -0.182   \n",
       "1142  ...          -163.0      4.447           0.120          -0.180   \n",
       "1355  ...          -159.0      4.538           0.051          -0.119   \n",
       "8740  ...          -159.0      4.589           0.035          -0.119   \n",
       "\n",
       "      koi_srad  koi_srad_err1  koi_srad_err2         ra        dec  koi_kepmag  \n",
       "9004     1.000          0.251         -0.111  294.60150  43.159935      13.583  \n",
       "5028     0.924          0.255         -0.127  286.54041  38.332600      14.634  \n",
       "1142     0.895          0.186         -0.129  298.60788  46.453678      14.548  \n",
       "1355     0.826          0.153         -0.082  296.52243  43.363369      15.911  \n",
       "8740     0.780          0.133         -0.061  285.03131  45.380451      15.569  \n",
       "\n",
       "[5 rows x 47 columns]"
      ]
     },
     "execution_count": 12,
     "metadata": {},
     "output_type": "execute_result"
    }
   ],
   "source": [
    "cumulative.sample(5, random_state=42)"
   ]
  },
  {
   "cell_type": "markdown",
   "id": "fe1baa14-8651-49c0-8af0-33549d0f3712",
   "metadata": {},
   "source": [
    "---"
   ]
  },
  {
   "cell_type": "markdown",
   "id": "f4239747-4faa-4440-bc35-e6ffe3b672c8",
   "metadata": {},
   "source": [
    "## Exploratory Data Analysis"
   ]
  },
  {
   "cell_type": "markdown",
   "id": "ac5ea153-4143-4eb6-904f-3f725ec5f84c",
   "metadata": {},
   "source": [
    "The main dataset has many columns, many of which we will not need to investigate in order to answer the questions of interest. Let's make a new subset table which will only include columns of interest."
   ]
  },
  {
   "cell_type": "code",
   "execution_count": 13,
   "id": "d8aee06f-febc-4c72-84e6-373adcc1ad54",
   "metadata": {},
   "outputs": [
    {
     "data": {
      "text/html": [
       "<div>\n",
       "<style scoped>\n",
       "    .dataframe tbody tr th:only-of-type {\n",
       "        vertical-align: middle;\n",
       "    }\n",
       "\n",
       "    .dataframe tbody tr th {\n",
       "        vertical-align: top;\n",
       "    }\n",
       "\n",
       "    .dataframe thead th {\n",
       "        text-align: right;\n",
       "    }\n",
       "</style>\n",
       "<table border=\"1\" class=\"dataframe\">\n",
       "  <thead>\n",
       "    <tr style=\"text-align: right;\">\n",
       "      <th></th>\n",
       "      <th>kepid</th>\n",
       "      <th>kepoi_name</th>\n",
       "      <th>kepler_name</th>\n",
       "      <th>koi_disposition</th>\n",
       "      <th>koi_score</th>\n",
       "      <th>koi_period</th>\n",
       "      <th>koi_prad</th>\n",
       "      <th>koi_teq</th>\n",
       "      <th>koi_steff</th>\n",
       "      <th>koi_srad</th>\n",
       "      <th>koi_slogg</th>\n",
       "      <th>koi_kepmag</th>\n",
       "    </tr>\n",
       "  </thead>\n",
       "  <tbody>\n",
       "    <tr>\n",
       "      <th>0</th>\n",
       "      <td>10797460</td>\n",
       "      <td>K00752.01</td>\n",
       "      <td>Kepler-227 b</td>\n",
       "      <td>Confirmed</td>\n",
       "      <td>1.000</td>\n",
       "      <td>9.488036</td>\n",
       "      <td>2.26</td>\n",
       "      <td>793.0</td>\n",
       "      <td>5455.0</td>\n",
       "      <td>0.927</td>\n",
       "      <td>4.467</td>\n",
       "      <td>15.347</td>\n",
       "    </tr>\n",
       "    <tr>\n",
       "      <th>1</th>\n",
       "      <td>10797460</td>\n",
       "      <td>K00752.02</td>\n",
       "      <td>Kepler-227 c</td>\n",
       "      <td>Confirmed</td>\n",
       "      <td>0.969</td>\n",
       "      <td>54.418383</td>\n",
       "      <td>2.83</td>\n",
       "      <td>443.0</td>\n",
       "      <td>5455.0</td>\n",
       "      <td>0.927</td>\n",
       "      <td>4.467</td>\n",
       "      <td>15.347</td>\n",
       "    </tr>\n",
       "    <tr>\n",
       "      <th>2</th>\n",
       "      <td>10811496</td>\n",
       "      <td>K00753.01</td>\n",
       "      <td>Unknown</td>\n",
       "      <td>Candidate</td>\n",
       "      <td>0.000</td>\n",
       "      <td>19.899140</td>\n",
       "      <td>14.60</td>\n",
       "      <td>638.0</td>\n",
       "      <td>5853.0</td>\n",
       "      <td>0.868</td>\n",
       "      <td>4.544</td>\n",
       "      <td>15.436</td>\n",
       "    </tr>\n",
       "    <tr>\n",
       "      <th>3</th>\n",
       "      <td>10848459</td>\n",
       "      <td>K00754.01</td>\n",
       "      <td>Unknown</td>\n",
       "      <td>False Positive</td>\n",
       "      <td>0.000</td>\n",
       "      <td>1.736952</td>\n",
       "      <td>33.46</td>\n",
       "      <td>1395.0</td>\n",
       "      <td>5805.0</td>\n",
       "      <td>0.791</td>\n",
       "      <td>4.564</td>\n",
       "      <td>15.597</td>\n",
       "    </tr>\n",
       "    <tr>\n",
       "      <th>4</th>\n",
       "      <td>10854555</td>\n",
       "      <td>K00755.01</td>\n",
       "      <td>Kepler-664 b</td>\n",
       "      <td>Confirmed</td>\n",
       "      <td>1.000</td>\n",
       "      <td>2.525592</td>\n",
       "      <td>2.75</td>\n",
       "      <td>1406.0</td>\n",
       "      <td>6031.0</td>\n",
       "      <td>1.046</td>\n",
       "      <td>4.438</td>\n",
       "      <td>15.509</td>\n",
       "    </tr>\n",
       "  </tbody>\n",
       "</table>\n",
       "</div>"
      ],
      "text/plain": [
       "      kepid kepoi_name   kepler_name koi_disposition  koi_score  koi_period  \\\n",
       "0  10797460  K00752.01  Kepler-227 b       Confirmed      1.000    9.488036   \n",
       "1  10797460  K00752.02  Kepler-227 c       Confirmed      0.969   54.418383   \n",
       "2  10811496  K00753.01       Unknown       Candidate      0.000   19.899140   \n",
       "3  10848459  K00754.01       Unknown  False Positive      0.000    1.736952   \n",
       "4  10854555  K00755.01  Kepler-664 b       Confirmed      1.000    2.525592   \n",
       "\n",
       "   koi_prad  koi_teq  koi_steff  koi_srad  koi_slogg  koi_kepmag  \n",
       "0      2.26    793.0     5455.0     0.927      4.467      15.347  \n",
       "1      2.83    443.0     5455.0     0.927      4.467      15.347  \n",
       "2     14.60    638.0     5853.0     0.868      4.544      15.436  \n",
       "3     33.46   1395.0     5805.0     0.791      4.564      15.597  \n",
       "4      2.75   1406.0     6031.0     1.046      4.438      15.509  "
      ]
     },
     "execution_count": 13,
     "metadata": {},
     "output_type": "execute_result"
    }
   ],
   "source": [
    "ids = ['kepid', 'kepoi_name', 'kepler_name', 'koi_disposition']\n",
    "features = ['koi_score', 'koi_period', 'koi_prad', 'koi_teq', 'koi_steff', 'koi_srad', 'koi_slogg', 'koi_kepmag']\n",
    "exo = cumulative[ids + features]\n",
    "exo.head(5)"
   ]
  },
  {
   "cell_type": "markdown",
   "id": "70135ec7-bc46-447c-82a3-845a88fb6274",
   "metadata": {},
   "source": [
    "### How many exoplanets are confirmed, candidates, and false positives?"
   ]
  },
  {
   "cell_type": "markdown",
   "id": "93aa4dc0-7aef-463d-94f0-400f983530a4",
   "metadata": {},
   "source": [
    "To find this, let's make a histogram and label each histogram with its respective height."
   ]
  },
  {
   "cell_type": "code",
   "execution_count": 14,
   "id": "15ef0074-3e32-423e-8d39-8bb845e98e1c",
   "metadata": {},
   "outputs": [
    {
     "data": {
      "image/png": "[encoded data removed]",
      "text/plain": [
       "<Figure size 640x480 with 1 Axes>"
      ]
     },
     "metadata": {},
     "output_type": "display_data"
    }
   ],
   "source": [
    "# Choose a style\n",
    "sns.set_style('dark')\n",
    "\n",
    "# Plot histogram\n",
    "ax = sns.histplot(x='koi_disposition', data=exo, hue='koi_disposition', legend=False)\n",
    "\n",
    "# Adjust title and axes\n",
    "ax.set_title('Histogram of Exoplanet Disposition', fontweight='bold')\n",
    "ax.set_xlabel('Disposition', fontweight='bold')\n",
    "ax.set_ylabel('Count', fontweight='bold')\n",
    "\n",
    "# Add counts on top of each \n",
    "for p in ax.patches:\n",
    "    h = p.get_height()\n",
    "    if h > 0:\n",
    "        ax.text(\n",
    "            x=p.get_x() + p.get_width() / 2,\n",
    "            y=h,\n",
    "            s=int(h),\n",
    "            ha='center', va='bottom',\n",
    "            fontsize=10\n",
    "        )\n",
    "\n",
    "plt.show()"
   ]
  },
  {
   "cell_type": "code",
   "execution_count": 15,
   "id": "99951709-7bc2-4a95-bb0a-5f5f87fbf921",
   "metadata": {},
   "outputs": [
    {
     "name": "stdout",
     "output_type": "stream",
     "text": [
      "koi_disposition\n",
      "False Positive    0.505960\n",
      "Confirmed         0.287118\n",
      "Candidate         0.206922\n",
      "Name: proportion, dtype: float64\n"
     ]
    }
   ],
   "source": [
    "disposition_norm = exo['koi_disposition'].value_counts(normalize=True)\n",
    "print(disposition_norm)"
   ]
  },
  {
   "cell_type": "markdown",
   "id": "96a81859-d4b0-4ef3-9a4d-5b134d3c1816",
   "metadata": {},
   "source": [
    "We see that there are 4839 false positives, 2746 confirmed, and 1979 candidate exoplanets. Of the three, false positives are by far the most common at about 50.5%"
   ]
  },
  {
   "cell_type": "markdown",
   "id": "c3a3088a-e4a6-4333-b165-6d0b50afd23f",
   "metadata": {},
   "source": [
    "### How are planet sizes distributed? Do we see more Earth-sized, Uranas-sized, or Jupiter-sized planets?"
   ]
  },
  {
   "cell_type": "markdown",
   "id": "b7030b15-efaf-49a3-98da-6f8abe501cbe",
   "metadata": {},
   "source": [
    "To look at the distribuation of plantet sizes, let's plot a histogram of the planet radii, `koi_prad`."
   ]
  },
  {
   "cell_type": "code",
   "execution_count": 16,
   "id": "222b151c-8983-4b3c-986a-aade0ed2f04a",
   "metadata": {},
   "outputs": [
    {
     "data": {
      "image/png": "[encoded data removed]",
      "text/plain": [
       "<Figure size 640x480 with 1 Axes>"
      ]
     },
     "metadata": {},
     "output_type": "display_data"
    }
   ],
   "source": [
    "ax = sns.histplot(exo['koi_prad'])"
   ]
  },
  {
   "cell_type": "markdown",
   "id": "cf40bf69-21bb-4b34-abd0-e11ebba0b1f2",
   "metadata": {},
   "source": [
    "Ok, this graph is not very usefull. Let's get more specific by looking at only confirmed exoplanets and ignoring outliers."
   ]
  },
  {
   "cell_type": "code",
   "execution_count": 28,
   "id": "78870232-bea0-43d6-8203-f5bb4f7c9d1d",
   "metadata": {},
   "outputs": [
    {
     "name": "stdout",
     "output_type": "stream",
     "text": [
      "lower bound:  -0.6049999999999998 \n",
      "upper_bound:  5.035\n"
     ]
    }
   ],
   "source": [
    "# Sort the planet radii of confirmed exoplanets only\n",
    "confirmed_prads = exo.loc[exo['koi_disposition'] == 'Confirmed', 'koi_prad'].sort_values()\n",
    "\n",
    "# Calculate the 1st and 3rd quartiles then calculate the interquartile range (IQR)\n",
    "q1, q3, = confirmed_prads.quantile([0.25, 0.75])\n",
    "iqr = q3 - q1\n",
    "\n",
    "# Calculate the upper and lower bounds\n",
    "lower_bound = q1 - 1.5 * iqr\n",
    "upper_bound = q3 + 1.5 * iqr\n",
    "print('lower bound: ', lower_bound, '\\nupper_bound: ', upper_bound)\n",
    "\n",
    "# Mask for radii only within bounds\n",
    "confirmed_prads_no_outliers = confirmed_prads.loc[(confirmed_prads > lower_bound) & (confirmed_prads < upper_bound)].to_frame()"
   ]
  },
  {
   "cell_type": "code",
   "execution_count": 18,
   "id": "b7931346-f692-4ae2-83a9-5e07d145c5ec",
   "metadata": {},
   "outputs": [
    {
     "data": {
      "image/png": "[encoded data removed]",
      "text/plain": [
       "<Figure size 640x480 with 1 Axes>"
      ]
     },
     "metadata": {},
     "output_type": "display_data"
    }
   ],
   "source": [
    "# Plot histogram\n",
    "ax = sns.histplot(confirmed_prads_no_outliers, legend=False)\n",
    "\n",
    "# Adjust title and axes\n",
    "ax.set_title('Histogram of Confirmed Exoplanet Radii', fontweight='bold')\n",
    "ax.set_xlabel('Radius (Earth radii)', fontweight='bold')\n",
    "ax.set_ylabel('Count', fontweight='bold')\n",
    "\n",
    "plt.show()"
   ]
  },
  {
   "cell_type": "code",
   "execution_count": 19,
   "id": "45a86b84-487a-400e-9efb-8e09cddda699",
   "metadata": {},
   "outputs": [
    {
     "data": {
      "text/html": [
       "<div>\n",
       "<style scoped>\n",
       "    .dataframe tbody tr th:only-of-type {\n",
       "        vertical-align: middle;\n",
       "    }\n",
       "\n",
       "    .dataframe tbody tr th {\n",
       "        vertical-align: top;\n",
       "    }\n",
       "\n",
       "    .dataframe thead th {\n",
       "        text-align: right;\n",
       "    }\n",
       "</style>\n",
       "<table border=\"1\" class=\"dataframe\">\n",
       "  <thead>\n",
       "    <tr style=\"text-align: right;\">\n",
       "      <th></th>\n",
       "      <th>count</th>\n",
       "      <th>mean</th>\n",
       "      <th>std</th>\n",
       "      <th>min</th>\n",
       "      <th>25%</th>\n",
       "      <th>50%</th>\n",
       "      <th>75%</th>\n",
       "      <th>max</th>\n",
       "    </tr>\n",
       "  </thead>\n",
       "  <tbody>\n",
       "    <tr>\n",
       "      <th>koi_prad</th>\n",
       "      <td>2518.0</td>\n",
       "      <td>2.139627</td>\n",
       "      <td>0.876877</td>\n",
       "      <td>0.27</td>\n",
       "      <td>1.46</td>\n",
       "      <td>2.04</td>\n",
       "      <td>2.68</td>\n",
       "      <td>5.0</td>\n",
       "    </tr>\n",
       "  </tbody>\n",
       "</table>\n",
       "</div>"
      ],
      "text/plain": [
       "           count      mean       std   min   25%   50%   75%  max\n",
       "koi_prad  2518.0  2.139627  0.876877  0.27  1.46  2.04  2.68  5.0"
      ]
     },
     "execution_count": 19,
     "metadata": {},
     "output_type": "execute_result"
    }
   ],
   "source": [
    "confirmed_prads_no_outliers.describe().T"
   ]
  },
  {
   "cell_type": "markdown",
   "id": "8fb72fd1-c052-48a4-aa80-8cec7d4b5b3b",
   "metadata": {},
   "source": [
    "We see that the vast majority of confirmed exoplanets are within 0 and 5 Earth radii (R🜨). For reference, Uranas is about 4 R🜨 and Jupiter is about 11 R🜨. Because our data is skewed right, the mean (2.14) is larger than the median (2.04) but both agree that the most common confirmed exoplanet radius is about 2 R🜨."
   ]
  },
  {
   "cell_type": "markdown",
   "id": "4d4762d0-c3ba-4236-899a-de72c6a5c1a2",
   "metadata": {},
   "source": [
    "### Is there a relationship between planet size and orbital period? What about planet equilibrium temperature and star temperature?"
   ]
  },
  {
   "cell_type": "markdown",
   "id": "958a80f5-08ff-415e-b3a3-5892999a3ad8",
   "metadata": {},
   "source": [
    "We can make a correlation matrix which will answer these questions and also show us the relationships between all of our variables of interest."
   ]
  },
  {
   "cell_type": "code",
   "execution_count": 31,
   "id": "c5fa3f9e-090e-44e7-85fd-e82ccca8bbf2",
   "metadata": {},
   "outputs": [
    {
     "data": {
      "image/png": "[encoded data removed]",
      "text/plain": [
       "<Figure size 1600x900 with 8 Axes>"
      ]
     },
     "metadata": {},
     "output_type": "display_data"
    }
   ],
   "source": [
    "# Make labels which remove 'koi_' from column names\n",
    "labels = [col.replace('koi_', '') for col in features]\n",
    "\n",
    "fig, axes = plt.subplots(2, 2, figsize=(16, 9))\n",
    "\n",
    "# First 3 heatmaps : by disposition\n",
    "for dispo, ax in zip(exo['koi_disposition'].unique(), axes.flat):\n",
    "    exo_values = exo.loc[exo['koi_disposition'] == dispo][features]\n",
    "    corr = exo_values.corr().round(2)\n",
    "    \n",
    "    ax = sns.heatmap(corr, annot=True, cmap='coolwarm', xticklabels=labels, yticklabels=labels, ax=ax)\n",
    "    ax.set_title(f'Heatmap of {dispo} Exoplanet Measurements', fontweight='bold')\n",
    "\n",
    "# Last heatmap : combined\n",
    "exo_values = exo[features]\n",
    "corr = exo_values.corr().round(2)\n",
    "\n",
    "axes[-1, -1] = sns.heatmap(corr, annot=True, cmap='coolwarm', xticklabels=labels, yticklabels=labels, ax=axes[-1, -1])\n",
    "axes[-1, -1].set_title('Heatmap of All Exoplanet Measurements', fontweight='bold')\n",
    "\n",
    "plt.show()"
   ]
  },
  {
   "cell_type": "markdown",
   "id": "0ba89461-37d2-40ae-bc2e-5ac291f8ad40",
   "metadata": {},
   "source": [
    "With this 2x2 grid of heatmaps, we can see the correlation of all varaibles by either individual disposition or all dispositions. In all four heatmaps, we see no correlation planet size and orbital period. For equilibrium temperature and star temperature, all have no correlation except for Confirmed which has a moderate relationship.\n",
    "\n",
    "It is interesting to see how in the Confirmed heatmap, there are more weak positive relationships between measurements. For instance, stellar temperature and planet equilibrium temperature for confirmed exoplanets have a moderate correlation while no other disposition does."
   ]
  },
  {
   "cell_type": "markdown",
   "id": "f362cce8-f7f5-49ca-8708-3dff72063329",
   "metadata": {},
   "source": [
    "---"
   ]
  },
  {
   "cell_type": "markdown",
   "id": "742e4a32-a75a-4b41-9fe9-0c82ee94471c",
   "metadata": {},
   "source": [
    "## Classification Task"
   ]
  },
  {
   "cell_type": "markdown",
   "id": "e4f415f6-ae8f-4bc4-9789-49b0bf5e72fe",
   "metadata": {},
   "source": [
    "Let's start with the machine learning classification task."
   ]
  },
  {
   "cell_type": "code",
   "execution_count": 21,
   "id": "e585332a-300f-469d-b980-7d702c36f391",
   "metadata": {
    "scrolled": true
   },
   "outputs": [],
   "source": [
    "# Make feature and target tables \n",
    "X = exo[features].drop(columns='koi_score')\n",
    "y = exo['koi_disposition']     \n",
    "\n",
    "# Encodes disposition labels into numbers\n",
    "label_encoder = LabelEncoder()\n",
    "y_encoded = label_encoder.fit_transform(y)       \n",
    "\n",
    "# Split data\n",
    "X_train, X_test, y_train, y_test = train_test_split(X, y_encoded, test_size=0.2, random_state=42, stratify=y_encoded)\n",
    "\n",
    "# Scale numeric features\n",
    "scaler = StandardScaler()\n",
    "X_train_scaled = scaler.fit_transform(X_train)\n",
    "X_test_scaled = scaler.transform(X_test)\n",
    "\n",
    "# Features selection\n",
    "selector = SelectKBest(score_func=f_classif, k=7)  # keep all features\n",
    "X_train_selected = selector.fit_transform(X_train_scaled, y_train)\n",
    "X_test_selected = selector.transform(X_test_scaled)\n",
    "\n",
    "# Convert to DataFrame with matching column names\n",
    "X_train_selected_df = pd.DataFrame(X_train_selected, columns=X_train.columns[selector.get_support()])\n",
    "X_test_selected_df = pd.DataFrame(X_test_selected, columns=X_train.columns[selector.get_support()])"
   ]
  },
  {
   "cell_type": "code",
   "execution_count": 22,
   "id": "002eba06-ba59-42af-81cb-545577eb5de1",
   "metadata": {},
   "outputs": [],
   "source": [
    "# Models to fit for mulitclass classication\n",
    "models_multi = {\n",
    "    \"Random Forest\": RandomForestClassifier(random_state=42),\n",
    "    \"XGBoost\": XGBClassifier(eval_metric='mlogloss', random_state=42),\n",
    "    \"LightGBM\": LGBMClassifier(random_state=42),\n",
    "    \"Gradient Boosting\": GradientBoostingClassifier(random_state=42),\n",
    "    \"MLP Neural Network\": MLPClassifier(hidden_layer_sizes=(100,), max_iter=500, random_state=42)\n",
    "}"
   ]
  },
  {
   "cell_type": "code",
   "execution_count": 23,
   "id": "7f04d9e7-da03-4a58-9245-751444404fb4",
   "metadata": {},
   "outputs": [
    {
     "name": "stdout",
     "output_type": "stream",
     "text": [
      "[LightGBM] [Info] Auto-choosing col-wise multi-threading, the overhead of testing was 0.000165 seconds.\n",
      "You can set `force_col_wise=true` to remove the overhead.\n",
      "[LightGBM] [Info] Total Bins 1785\n",
      "[LightGBM] [Info] Number of data points in the train set: 7651, number of used features: 7\n",
      "[LightGBM] [Info] Start training from score -1.575515\n",
      "[LightGBM] [Info] Start training from score -1.247744\n",
      "[LightGBM] [Info] Start training from score -0.681323\n"
     ]
    },
    {
     "data": {
      "text/html": [
       "<div>\n",
       "<style scoped>\n",
       "    .dataframe tbody tr th:only-of-type {\n",
       "        vertical-align: middle;\n",
       "    }\n",
       "\n",
       "    .dataframe tbody tr th {\n",
       "        vertical-align: top;\n",
       "    }\n",
       "\n",
       "    .dataframe thead th {\n",
       "        text-align: right;\n",
       "    }\n",
       "</style>\n",
       "<table border=\"1\" class=\"dataframe\">\n",
       "  <thead>\n",
       "    <tr style=\"text-align: right;\">\n",
       "      <th></th>\n",
       "      <th>Model</th>\n",
       "      <th>Accuracy</th>\n",
       "      <th>F1 Score (weighted)</th>\n",
       "    </tr>\n",
       "  </thead>\n",
       "  <tbody>\n",
       "    <tr>\n",
       "      <th>0</th>\n",
       "      <td>XGBoost</td>\n",
       "      <td>0.733403</td>\n",
       "      <td>0.725905</td>\n",
       "    </tr>\n",
       "    <tr>\n",
       "      <th>1</th>\n",
       "      <td>LightGBM</td>\n",
       "      <td>0.732358</td>\n",
       "      <td>0.723153</td>\n",
       "    </tr>\n",
       "    <tr>\n",
       "      <th>2</th>\n",
       "      <td>Random Forest</td>\n",
       "      <td>0.728698</td>\n",
       "      <td>0.720642</td>\n",
       "    </tr>\n",
       "    <tr>\n",
       "      <th>3</th>\n",
       "      <td>Gradient Boosting</td>\n",
       "      <td>0.725562</td>\n",
       "      <td>0.716881</td>\n",
       "    </tr>\n",
       "    <tr>\n",
       "      <th>4</th>\n",
       "      <td>MLP Neural Network</td>\n",
       "      <td>0.674334</td>\n",
       "      <td>0.633708</td>\n",
       "    </tr>\n",
       "  </tbody>\n",
       "</table>\n",
       "</div>"
      ],
      "text/plain": [
       "                Model  Accuracy  F1 Score (weighted)\n",
       "0             XGBoost  0.733403             0.725905\n",
       "1            LightGBM  0.732358             0.723153\n",
       "2       Random Forest  0.728698             0.720642\n",
       "3   Gradient Boosting  0.725562             0.716881\n",
       "4  MLP Neural Network  0.674334             0.633708"
      ]
     },
     "execution_count": 23,
     "metadata": {},
     "output_type": "execute_result"
    }
   ],
   "source": [
    "results_multi = []\n",
    "\n",
    "# Fit each model\n",
    "for name, model in models_multi.items():\n",
    "    metrics = evaluate_model(model, X_train_selected_df, X_test_selected_df, y_train, y_test, name)\n",
    "    results_multi.append(metrics)\n",
    "\n",
    "# Convert results to a DataFrame\n",
    "results_df_m = pd.DataFrame(results_multi)\n",
    "\n",
    "# Display without printing confusion matrix in the main table\n",
    "results_df_multi = results_df_m.drop(columns=\"Confusion Matrix\")\n",
    "results_df_multi = results_df_multi.sort_values(by='Accuracy', ascending=False).reset_index(drop=True)\n",
    "results_df_multi"
   ]
  },
  {
   "cell_type": "markdown",
   "id": "bda11205-1a82-4037-a6f5-a398c09bd780",
   "metadata": {},
   "source": [
    "Of the five models fitted, we see that XGBoost has the highest accuracy at 73%. However, we coult try to raise the accuracy by removing `Candidates`. This is because `Candidates` are simply unknown objects while `Confirmed` are obviously exoplanets, and `False Positive` are confirmed to not be exoplanets."
   ]
  },
  {
   "cell_type": "code",
   "execution_count": 32,
   "id": "134a8354-ec89-4f55-93ac-80582ff2d9bb",
   "metadata": {},
   "outputs": [],
   "source": [
    "# Make feature and target tables\n",
    "no_cand = exo.loc[exo['koi_disposition'] != 'Candidate']\n",
    "\n",
    "X = no_cand[features].drop(columns='koi_score')\n",
    "y = no_cand['koi_disposition']\n",
    "\n",
    "# Encodes disposition labels into numbers\n",
    "label_encoder = LabelEncoder()\n",
    "y_encoded = label_encoder.fit_transform(y)       \n",
    "\n",
    "# Split data\n",
    "X_train, X_test, y_train, y_test = train_test_split(X, y_encoded, test_size=0.2, random_state=42, stratify=y_encoded)\n",
    "\n",
    "# Scale numeric features to match proportions\n",
    "scaler = StandardScaler()\n",
    "X_train_scaled = scaler.fit_transform(X_train)\n",
    "X_test_scaled = scaler.transform(X_test)\n",
    "\n",
    "# Features selection\n",
    "selector = SelectKBest(score_func=f_classif, k=7)  # keep all features\n",
    "X_train_selected = selector.fit_transform(X_train_scaled, y_train)\n",
    "X_test_selected = selector.transform(X_test_scaled)\n",
    "\n",
    "# Convert to DataFrame with matching column names\n",
    "X_train_selected_df = pd.DataFrame(X_train_selected, columns=X_train.columns[selector.get_support()])\n",
    "X_test_selected_df = pd.DataFrame(X_test_selected, columns=X_train.columns[selector.get_support()])"
   ]
  },
  {
   "cell_type": "code",
   "execution_count": 25,
   "id": "fde2583b-0083-43e5-aaf9-3e1c65581e53",
   "metadata": {},
   "outputs": [],
   "source": [
    "# Models to fit for binary classicifaction\n",
    "models_binary = {\n",
    "    \"Random Forest\": RandomForestClassifier(random_state=42),\n",
    "    \"XGBoost\": XGBClassifier(eval_metric='logloss', random_state=42),\n",
    "    \"LightGBM\": LGBMClassifier(random_state=42),\n",
    "    \"Gradient Boosting\": GradientBoostingClassifier(random_state=42),\n",
    "    \"MLP Neural Network\": MLPClassifier(hidden_layer_sizes=(100,), max_iter=500, random_state=42)\n",
    "}"
   ]
  },
  {
   "cell_type": "code",
   "execution_count": 26,
   "id": "57f31528-538b-4536-ae7c-2f19679030d2",
   "metadata": {},
   "outputs": [
    {
     "name": "stdout",
     "output_type": "stream",
     "text": [
      "[LightGBM] [Info] Number of positive: 3871, number of negative: 2197\n",
      "[LightGBM] [Info] Auto-choosing col-wise multi-threading, the overhead of testing was 0.000174 seconds.\n",
      "You can set `force_col_wise=true` to remove the overhead.\n",
      "[LightGBM] [Info] Total Bins 1785\n",
      "[LightGBM] [Info] Number of data points in the train set: 6068, number of used features: 7\n",
      "[LightGBM] [Info] [binary:BoostFromScore]: pavg=0.637937 -> initscore=0.566420\n",
      "[LightGBM] [Info] Start training from score 0.566420\n"
     ]
    },
    {
     "data": {
      "text/html": [
       "<div>\n",
       "<style scoped>\n",
       "    .dataframe tbody tr th:only-of-type {\n",
       "        vertical-align: middle;\n",
       "    }\n",
       "\n",
       "    .dataframe tbody tr th {\n",
       "        vertical-align: top;\n",
       "    }\n",
       "\n",
       "    .dataframe thead th {\n",
       "        text-align: right;\n",
       "    }\n",
       "</style>\n",
       "<table border=\"1\" class=\"dataframe\">\n",
       "  <thead>\n",
       "    <tr style=\"text-align: right;\">\n",
       "      <th></th>\n",
       "      <th>Model</th>\n",
       "      <th>Accuracy</th>\n",
       "      <th>F1 Score (weighted)</th>\n",
       "    </tr>\n",
       "  </thead>\n",
       "  <tbody>\n",
       "    <tr>\n",
       "      <th>0</th>\n",
       "      <td>Gradient Boosting</td>\n",
       "      <td>0.885959</td>\n",
       "      <td>0.886881</td>\n",
       "    </tr>\n",
       "    <tr>\n",
       "      <th>1</th>\n",
       "      <td>LightGBM</td>\n",
       "      <td>0.883982</td>\n",
       "      <td>0.884454</td>\n",
       "    </tr>\n",
       "    <tr>\n",
       "      <th>2</th>\n",
       "      <td>Random Forest</td>\n",
       "      <td>0.879367</td>\n",
       "      <td>0.880120</td>\n",
       "    </tr>\n",
       "    <tr>\n",
       "      <th>3</th>\n",
       "      <td>XGBoost</td>\n",
       "      <td>0.877390</td>\n",
       "      <td>0.878213</td>\n",
       "    </tr>\n",
       "    <tr>\n",
       "      <th>4</th>\n",
       "      <td>MLP Neural Network</td>\n",
       "      <td>0.845748</td>\n",
       "      <td>0.845986</td>\n",
       "    </tr>\n",
       "  </tbody>\n",
       "</table>\n",
       "</div>"
      ],
      "text/plain": [
       "                Model  Accuracy  F1 Score (weighted)\n",
       "0   Gradient Boosting  0.885959             0.886881\n",
       "1            LightGBM  0.883982             0.884454\n",
       "2       Random Forest  0.879367             0.880120\n",
       "3             XGBoost  0.877390             0.878213\n",
       "4  MLP Neural Network  0.845748             0.845986"
      ]
     },
     "execution_count": 26,
     "metadata": {},
     "output_type": "execute_result"
    }
   ],
   "source": [
    "results_binary = []\n",
    "\n",
    "# Fit each model\n",
    "for name, model in models_binary.items():\n",
    "    metrics = evaluate_model(model, X_train_selected_df, X_test_selected_df, y_train, y_test, name)\n",
    "    results_binary.append(metrics)\n",
    "\n",
    "# Convert results to a DataFrame\n",
    "results_df_b = pd.DataFrame(results_binary)\n",
    "\n",
    "# Display without printing confusion matrix in the main table\n",
    "results_df_binary = results_df_b.drop(columns=\"Confusion Matrix\")\n",
    "results_df_binary = results_df_binary.sort_values(by='Accuracy', ascending=False).reset_index(drop=True)\n",
    "results_df_binary"
   ]
  },
  {
   "cell_type": "markdown",
   "id": "0a665637-3d7f-4593-a2cb-5a9823840e88",
   "metadata": {},
   "source": [
    "After adjusting the classification task from multiclass to binary, we see that the Gradient Boosting Model now preforms the best at about 90% accuracy!"
   ]
  },
  {
   "cell_type": "markdown",
   "id": "a9fe7189-3137-4255-9eb1-fe663b1e3ac3",
   "metadata": {},
   "source": [
    "---"
   ]
  },
  {
   "cell_type": "markdown",
   "id": "30ca5ec9-f4f1-436b-be20-a7a5de9d6f13",
   "metadata": {},
   "source": [
    "## Conclusion"
   ]
  },
  {
   "cell_type": "markdown",
   "id": "ae7b28e9-ed45-42ec-bf3f-b9874ac0b60d",
   "metadata": {},
   "source": [
    "In this project, we conducted a comprehensive analysis of NASA’s Kepler exoplanet dataset to explore patterns among confirmed, candidate, and false positive exoplanets and to build predictive classification models.\n",
    "\n",
    "Exploratory Data Analysis (EDA) revealed:\n",
    "- Certain planetary and stellar features, such as radius, orbital period, and stellar flux, show distinct distributions across exoplanet classes.\n",
    "- Correlations among features provided insight into which variables may be most predictive of confirmed exoplanets.\n",
    "- The dataset is imbalanced, with fewer confirmed exoplanets relative to false positives, highlighting the importance of using metrics beyond simple accuracy.\n",
    "\n",
    "Machine Learning Classification:\n",
    "\n",
    "- Multiple models were trained and evaluated, including Random Forest, Gradient Boosting, XGBoost, LightGBM, and MLP Neural Networks.\n",
    "- Feature selection helped identify the most informative variables while simplifying the models.\n",
    "- Evaluation metrics, including accuracy and weighted F1 score, showed that ensemble methods such as XGBoost and Gradient Boosting performed best, effectively handling the class imbalance and capturing complex feature interactions.\n",
    "- Feature engineering and careful preprocessing were critical to improving model performance.\n",
    "\n",
    "This analysis demonstrates how data-driven approaches can effectively differentiate confirmed exoplanets from candidates and false positives, and provides a framework for future work in exoplanet discovery and classification."
   ]
  }
 ],
 "metadata": {
  "kernelspec": {
   "display_name": "Python 3 (ipykernel)",
   "language": "python",
   "name": "python3"
  },
  "language_info": {
   "codemirror_mode": {
    "name": "ipython",
    "version": 3
   },
   "file_extension": ".py",
   "mimetype": "text/x-python",
   "name": "python",
   "nbconvert_exporter": "python",
   "pygments_lexer": "ipython3",
   "version": "3.13.5"
  }
 },
 "nbformat": 4,
 "nbformat_minor": 5
}
